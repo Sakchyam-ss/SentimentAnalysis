{
 "cells": [
  {
   "attachments": {},
   "cell_type": "markdown",
   "id": "bd26187e",
   "metadata": {},
   "source": [
    "# 1. Installing And Import Dependencies"
   ]
  },
  {
   "cell_type": "code",
   "execution_count": 106,
   "id": "6a3f40d7",
   "metadata": {
    "collapsed": true
   },
   "outputs": [
    {
     "name": "stdout",
     "output_type": "stream",
     "text": [
      "Looking in indexes: https://download.pytorch.org/whl/cu118\n",
      "Requirement already satisfied: torch in c:\\users\\ripple\\anaconda\\lib\\site-packages (2.0.0+cu118)\n",
      "Requirement already satisfied: torchvision in c:\\users\\ripple\\anaconda\\lib\\site-packages (0.15.1+cu118)\n",
      "Requirement already satisfied: torchaudio in c:\\users\\ripple\\anaconda\\lib\\site-packages (2.0.1+cu118)\n",
      "Requirement already satisfied: filelock in c:\\users\\ripple\\anaconda\\lib\\site-packages (from torch) (3.9.0)\n",
      "Requirement already satisfied: sympy in c:\\users\\ripple\\anaconda\\lib\\site-packages (from torch) (1.11.1)\n",
      "Requirement already satisfied: jinja2 in c:\\users\\ripple\\anaconda\\lib\\site-packages (from torch) (3.1.2)\n",
      "Requirement already satisfied: networkx in c:\\users\\ripple\\anaconda\\lib\\site-packages (from torch) (2.8.4)\n",
      "Requirement already satisfied: typing-extensions in c:\\users\\ripple\\anaconda\\lib\\site-packages (from torch) (4.4.0)\n",
      "Requirement already satisfied: numpy in c:\\users\\ripple\\anaconda\\lib\\site-packages (from torchvision) (1.23.5)\n",
      "Requirement already satisfied: requests in c:\\users\\ripple\\anaconda\\lib\\site-packages (from torchvision) (2.28.1)\n",
      "Requirement already satisfied: pillow!=8.3.*,>=5.3.0 in c:\\users\\ripple\\anaconda\\lib\\site-packages (from torchvision) (9.4.0)\n",
      "Requirement already satisfied: MarkupSafe>=2.0 in c:\\users\\ripple\\anaconda\\lib\\site-packages (from jinja2->torch) (2.1.1)\n",
      "Requirement already satisfied: charset-normalizer<3,>=2 in c:\\users\\ripple\\anaconda\\lib\\site-packages (from requests->torchvision) (2.0.4)\n",
      "Requirement already satisfied: urllib3<1.27,>=1.21.1 in c:\\users\\ripple\\anaconda\\lib\\site-packages (from requests->torchvision) (1.26.14)\n",
      "Requirement already satisfied: certifi>=2017.4.17 in c:\\users\\ripple\\anaconda\\lib\\site-packages (from requests->torchvision) (2022.12.7)\n",
      "Requirement already satisfied: idna<4,>=2.5 in c:\\users\\ripple\\anaconda\\lib\\site-packages (from requests->torchvision) (3.4)\n",
      "Requirement already satisfied: mpmath>=0.19 in c:\\users\\ripple\\anaconda\\lib\\site-packages (from sympy->torch) (1.2.1)\n"
     ]
    }
   ],
   "source": [
    "!pip install torch torchvision torchaudio --index-url https://download.pytorch.org/whl/cu118"
   ]
  },
  {
   "cell_type": "code",
   "execution_count": 2,
   "id": "05657da9",
   "metadata": {
    "collapsed": true
   },
   "outputs": [
    {
     "name": "stdout",
     "output_type": "stream",
     "text": [
      "Requirement already satisfied: transformers in c:\\users\\ripple\\anaconda\\lib\\site-packages (4.24.0)\n",
      "Requirement already satisfied: requests in c:\\users\\ripple\\anaconda\\lib\\site-packages (2.28.1)\n",
      "Requirement already satisfied: beautifulsoup4 in c:\\users\\ripple\\anaconda\\lib\\site-packages (4.11.1)\n",
      "Requirement already satisfied: pandas in c:\\users\\ripple\\anaconda\\lib\\site-packages (1.5.3)\n",
      "Requirement already satisfied: numpy in c:\\users\\ripple\\anaconda\\lib\\site-packages (1.23.5)\n",
      "Requirement already satisfied: packaging>=20.0 in c:\\users\\ripple\\anaconda\\lib\\site-packages (from transformers) (22.0)\n",
      "Requirement already satisfied: pyyaml>=5.1 in c:\\users\\ripple\\anaconda\\lib\\site-packages (from transformers) (6.0)\n",
      "Requirement already satisfied: filelock in c:\\users\\ripple\\anaconda\\lib\\site-packages (from transformers) (3.9.0)\n",
      "Requirement already satisfied: regex!=2019.12.17 in c:\\users\\ripple\\anaconda\\lib\\site-packages (from transformers) (2022.7.9)\n",
      "Requirement already satisfied: huggingface-hub<1.0,>=0.10.0 in c:\\users\\ripple\\anaconda\\lib\\site-packages (from transformers) (0.10.1)\n",
      "Requirement already satisfied: tqdm>=4.27 in c:\\users\\ripple\\anaconda\\lib\\site-packages (from transformers) (4.64.1)\n",
      "Requirement already satisfied: tokenizers!=0.11.3,<0.14,>=0.11.1 in c:\\users\\ripple\\anaconda\\lib\\site-packages (from transformers) (0.11.4)\n",
      "Requirement already satisfied: certifi>=2017.4.17 in c:\\users\\ripple\\anaconda\\lib\\site-packages (from requests) (2022.12.7)\n",
      "Requirement already satisfied: idna<4,>=2.5 in c:\\users\\ripple\\anaconda\\lib\\site-packages (from requests) (3.4)\n",
      "Requirement already satisfied: charset-normalizer<3,>=2 in c:\\users\\ripple\\anaconda\\lib\\site-packages (from requests) (2.0.4)\n",
      "Requirement already satisfied: urllib3<1.27,>=1.21.1 in c:\\users\\ripple\\anaconda\\lib\\site-packages (from requests) (1.26.14)\n",
      "Requirement already satisfied: soupsieve>1.2 in c:\\users\\ripple\\anaconda\\lib\\site-packages (from beautifulsoup4) (2.3.2.post1)\n",
      "Requirement already satisfied: python-dateutil>=2.8.1 in c:\\users\\ripple\\anaconda\\lib\\site-packages (from pandas) (2.8.2)\n",
      "Requirement already satisfied: pytz>=2020.1 in c:\\users\\ripple\\anaconda\\lib\\site-packages (from pandas) (2022.7)\n",
      "Requirement already satisfied: typing-extensions>=3.7.4.3 in c:\\users\\ripple\\anaconda\\lib\\site-packages (from huggingface-hub<1.0,>=0.10.0->transformers) (4.4.0)\n",
      "Requirement already satisfied: six>=1.5 in c:\\users\\ripple\\anaconda\\lib\\site-packages (from python-dateutil>=2.8.1->pandas) (1.16.0)\n",
      "Requirement already satisfied: colorama in c:\\users\\ripple\\anaconda\\lib\\site-packages (from tqdm>=4.27->transformers) (0.4.6)\n"
     ]
    }
   ],
   "source": [
    "!pip install transformers streamlit requests beautifulsoup4 pandas numpy "
   ]
  },
  {
   "cell_type": "code",
   "execution_count": 3,
   "id": "3eff59da",
   "metadata": {},
   "outputs": [],
   "source": [
    "from transformers import AutoTokenizer, AutoModelForSequenceClassification\n",
    "from bs4 import BeautifulSoup\n",
    "import torch\n",
    "import requests\n",
    "import re\n",
    "import numpy as np\n",
    "import pandas as pd"
   ]
  },
  {
   "attachments": {},
   "cell_type": "markdown",
   "id": "0b8e3e66",
   "metadata": {},
   "source": [
    "# 2. Creating the Model"
   ]
  },
  {
   "cell_type": "code",
   "execution_count": 57,
   "id": "88cc30f9",
   "metadata": {},
   "outputs": [],
   "source": [
    "tokenizer = AutoTokenizer.from_pretrained('nlptown/bert-base-multilingual-uncased-sentiment')\n",
    "\n",
    "model = AutoModelForSequenceClassification.from_pretrained('nlptown/bert-base-multilingual-uncased-sentiment')\n"
   ]
  },
  {
   "attachments": {},
   "cell_type": "markdown",
   "id": "82ec3aec",
   "metadata": {},
   "source": [
    "# 3. Training and Testing the Model"
   ]
  },
  {
   "cell_type": "code",
   "execution_count": 102,
   "id": "00c17a4c",
   "metadata": {},
   "outputs": [],
   "source": [
    "tokens = tokenizer.encode('je l ai absolument détesté. ne réessayez jamais',return_tensors='pt')"
   ]
  },
  {
   "cell_type": "code",
   "execution_count": 71,
   "id": "2782fb69",
   "metadata": {},
   "outputs": [
    {
     "data": {
      "text/plain": [
       "'[CLS] je l ai absolument deteste. ne reessayez jamais [SEP]'"
      ]
     },
     "execution_count": 71,
     "metadata": {},
     "output_type": "execute_result"
    }
   ],
   "source": [
    "tokenizer.decode(tokens[0])"
   ]
  },
  {
   "cell_type": "code",
   "execution_count": 103,
   "id": "4365fcb4",
   "metadata": {},
   "outputs": [],
   "source": [
    "result = model(tokens)"
   ]
  },
  {
   "cell_type": "code",
   "execution_count": 99,
   "id": "805dc78a",
   "metadata": {},
   "outputs": [
    {
     "data": {
      "text/plain": [
       "SequenceClassifierOutput(loss=None, logits=tensor([[ 1.3854,  2.5690,  1.7249, -1.5135, -3.1884]],\n",
       "       grad_fn=<AddmmBackward0>), hidden_states=None, attentions=None)"
      ]
     },
     "execution_count": 99,
     "metadata": {},
     "output_type": "execute_result"
    }
   ],
   "source": [
    "result"
   ]
  },
  {
   "cell_type": "code",
   "execution_count": 104,
   "id": "b3cd2f33",
   "metadata": {},
   "outputs": [
    {
     "data": {
      "text/plain": [
       "tensor([[ 4.4548,  2.0282, -0.4900, -2.7767, -2.3229]],\n",
       "       grad_fn=<AddmmBackward0>)"
      ]
     },
     "execution_count": 104,
     "metadata": {},
     "output_type": "execute_result"
    }
   ],
   "source": [
    "result.logits"
   ]
  },
  {
   "cell_type": "code",
   "execution_count": 105,
   "id": "03f6b790",
   "metadata": {},
   "outputs": [
    {
     "data": {
      "text/plain": [
       "1"
      ]
     },
     "execution_count": 105,
     "metadata": {},
     "output_type": "execute_result"
    }
   ],
   "source": [
    "int(torch.argmax(result.logits))+1"
   ]
  },
  {
   "attachments": {},
   "cell_type": "markdown",
   "id": "501834ef",
   "metadata": {},
   "source": [
    "# 4. Collecting Reviews"
   ]
  },
  {
   "cell_type": "code",
   "execution_count": 18,
   "id": "0cdb7ace",
   "metadata": {},
   "outputs": [],
   "source": [
    "r = requests.get('https://www.yelp.com/biz/cuisine-of-nepal-san-francisco')\n",
    "soup = BeautifulSoup(r.text, 'html.parser')\n",
    "regex = re.compile('.*comment.*')\n",
    "results = soup.find_all('p',{'class':regex})\n",
    "reviews =[result.text for result in results] "
   ]
  },
  {
   "cell_type": "code",
   "execution_count": 19,
   "id": "d11efd9c",
   "metadata": {},
   "outputs": [
    {
     "data": {
      "text/plain": [
       "'I took my wife here for her birthday dinner, and we enjoyed everything we order. We arrive for an early meal at 5:45pm, and there was ample seating. We were seated, we ordered, and the food came as soon as the rest of the patrons to this spot. This place filled up quickly for the dinner rush!The service was attentive, friendly, and quick. We ordered the:Veggie Momos which were filled with sautéed greens, cilantro, onions, carrots, and delicious herbs. The sauce was also delicious, and added a nice warmth and spice to the momos. Palak Paneer was creamy with a hint of herbs, and the paneer cubes were very rich and milky tasting. Machhako Tarkari Curry was a delicious salmon curry. It was a perfect compliment to the creamy palak planner, as it was a lighter more tomato based sauce. We also enjoyed that the entree dishes come with a side of rice and naan!For dessert we order Lal Mohan, yummy soft pudding like donut holes! They were so cute in the little bowl they came out in too. We will be back to this spot to try out their sizzling platters and other curries!'"
      ]
     },
     "execution_count": 19,
     "metadata": {},
     "output_type": "execute_result"
    }
   ],
   "source": [
    "reviews[1]"
   ]
  },
  {
   "attachments": {},
   "cell_type": "markdown",
   "id": "e392aa93",
   "metadata": {},
   "source": [
    "# 5. Loading the reviews into a DataFrame and Scoring"
   ]
  },
  {
   "cell_type": "code",
   "execution_count": 20,
   "id": "75c3fb98",
   "metadata": {},
   "outputs": [],
   "source": [
    "df = pd.DataFrame(np.array(reviews), columns=['Reviews'])"
   ]
  },
  {
   "cell_type": "code",
   "execution_count": 21,
   "id": "7a016c6e",
   "metadata": {},
   "outputs": [
    {
     "data": {
      "text/html": [
       "<div>\n",
       "<style scoped>\n",
       "    .dataframe tbody tr th:only-of-type {\n",
       "        vertical-align: middle;\n",
       "    }\n",
       "\n",
       "    .dataframe tbody tr th {\n",
       "        vertical-align: top;\n",
       "    }\n",
       "\n",
       "    .dataframe thead th {\n",
       "        text-align: right;\n",
       "    }\n",
       "</style>\n",
       "<table border=\"1\" class=\"dataframe\">\n",
       "  <thead>\n",
       "    <tr style=\"text-align: right;\">\n",
       "      <th></th>\n",
       "      <th>Reviews</th>\n",
       "    </tr>\n",
       "  </thead>\n",
       "  <tbody>\n",
       "    <tr>\n",
       "      <th>0</th>\n",
       "      <td>When I got my meal delivered by Doordash, it w...</td>\n",
       "    </tr>\n",
       "    <tr>\n",
       "      <th>1</th>\n",
       "      <td>I took my wife here for her birthday dinner, a...</td>\n",
       "    </tr>\n",
       "    <tr>\n",
       "      <th>2</th>\n",
       "      <td>We were craving hearty comfort food on a rainy...</td>\n",
       "    </tr>\n",
       "    <tr>\n",
       "      <th>3</th>\n",
       "      <td>We came here to try the Salmon Curry, vegetari...</td>\n",
       "    </tr>\n",
       "    <tr>\n",
       "      <th>4</th>\n",
       "      <td>My cousin recommended this place. Tommy surpri...</td>\n",
       "    </tr>\n",
       "    <tr>\n",
       "      <th>5</th>\n",
       "      <td>When our restaurant reservation fell though be...</td>\n",
       "    </tr>\n",
       "    <tr>\n",
       "      <th>6</th>\n",
       "      <td>I can not thank Mr Shrestha enough for his hos...</td>\n",
       "    </tr>\n",
       "    <tr>\n",
       "      <th>7</th>\n",
       "      <td>Fantastic experience on all levels - this was ...</td>\n",
       "    </tr>\n",
       "    <tr>\n",
       "      <th>8</th>\n",
       "      <td>Nice spot for some unique cuisine. The flavors...</td>\n",
       "    </tr>\n",
       "    <tr>\n",
       "      <th>9</th>\n",
       "      <td>We have been going here for years, but I've ne...</td>\n",
       "    </tr>\n",
       "  </tbody>\n",
       "</table>\n",
       "</div>"
      ],
      "text/plain": [
       "                                             Reviews\n",
       "0  When I got my meal delivered by Doordash, it w...\n",
       "1  I took my wife here for her birthday dinner, a...\n",
       "2  We were craving hearty comfort food on a rainy...\n",
       "3  We came here to try the Salmon Curry, vegetari...\n",
       "4  My cousin recommended this place. Tommy surpri...\n",
       "5  When our restaurant reservation fell though be...\n",
       "6  I can not thank Mr Shrestha enough for his hos...\n",
       "7  Fantastic experience on all levels - this was ...\n",
       "8  Nice spot for some unique cuisine. The flavors...\n",
       "9  We have been going here for years, but I've ne..."
      ]
     },
     "execution_count": 21,
     "metadata": {},
     "output_type": "execute_result"
    }
   ],
   "source": [
    "df"
   ]
  },
  {
   "cell_type": "code",
   "execution_count": 22,
   "id": "8285f4db",
   "metadata": {},
   "outputs": [
    {
     "data": {
      "text/plain": [
       "\"When I got my meal delivered by Doordash, it was absolutely delicious! \\xa0The soup and the chicken meal i ordered was cooked perfectly and very tasty. \\xa0It was a time of struggle too and was so happy that even when times are tough, i was still able to enjoy a very tasteful meal by this restaurant delivered by Doordash. \\xa0Thats why I am so thankful that I was even able to get a free meal from doordash because of their special offer this month. \\xa0I honestly dont want to keep it from anyone because I feel like someone else like myself can also feel the joy of getting a few meals delivered without even having to pay a dime for. \\xa0Thank you so much DD! \\xa0And for anyone who wants this same offer, you can get it here. \\xa0Just fill out the form all the way through and you can also get 1 week's food for free: \\xa0tpmbdirect.com/1600/60/y…\""
      ]
     },
     "execution_count": 22,
     "metadata": {},
     "output_type": "execute_result"
    }
   ],
   "source": [
    "df['Reviews'].iloc[0]"
   ]
  },
  {
   "cell_type": "code",
   "execution_count": 23,
   "id": "bf33e76e",
   "metadata": {},
   "outputs": [],
   "source": [
    "def sentiment_score(review):\n",
    "    tokens = tokenizer.encode(review,return_tensors='pt')\n",
    "    result = model(tokens)\n",
    "    return int(torch.argmax(result.logits))+1"
   ]
  },
  {
   "cell_type": "code",
   "execution_count": 24,
   "id": "90858aaf",
   "metadata": {},
   "outputs": [
    {
     "data": {
      "text/plain": [
       "5"
      ]
     },
     "execution_count": 24,
     "metadata": {},
     "output_type": "execute_result"
    }
   ],
   "source": [
    "sentiment_score(df['Reviews'].iloc[0])"
   ]
  },
  {
   "cell_type": "code",
   "execution_count": 25,
   "id": "520afbab",
   "metadata": {},
   "outputs": [],
   "source": [
    "df['Sentiment'] = df['Reviews'].apply(lambda x: sentiment_score(x[:512]))"
   ]
  },
  {
   "cell_type": "code",
   "execution_count": 26,
   "id": "2553e7a2",
   "metadata": {},
   "outputs": [
    {
     "data": {
      "text/html": [
       "<div>\n",
       "<style scoped>\n",
       "    .dataframe tbody tr th:only-of-type {\n",
       "        vertical-align: middle;\n",
       "    }\n",
       "\n",
       "    .dataframe tbody tr th {\n",
       "        vertical-align: top;\n",
       "    }\n",
       "\n",
       "    .dataframe thead th {\n",
       "        text-align: right;\n",
       "    }\n",
       "</style>\n",
       "<table border=\"1\" class=\"dataframe\">\n",
       "  <thead>\n",
       "    <tr style=\"text-align: right;\">\n",
       "      <th></th>\n",
       "      <th>Reviews</th>\n",
       "      <th>Sentiment</th>\n",
       "    </tr>\n",
       "  </thead>\n",
       "  <tbody>\n",
       "    <tr>\n",
       "      <th>0</th>\n",
       "      <td>When I got my meal delivered by Doordash, it w...</td>\n",
       "      <td>5</td>\n",
       "    </tr>\n",
       "    <tr>\n",
       "      <th>1</th>\n",
       "      <td>I took my wife here for her birthday dinner, a...</td>\n",
       "      <td>5</td>\n",
       "    </tr>\n",
       "    <tr>\n",
       "      <th>2</th>\n",
       "      <td>We were craving hearty comfort food on a rainy...</td>\n",
       "      <td>3</td>\n",
       "    </tr>\n",
       "    <tr>\n",
       "      <th>3</th>\n",
       "      <td>We came here to try the Salmon Curry, vegetari...</td>\n",
       "      <td>5</td>\n",
       "    </tr>\n",
       "    <tr>\n",
       "      <th>4</th>\n",
       "      <td>My cousin recommended this place. Tommy surpri...</td>\n",
       "      <td>5</td>\n",
       "    </tr>\n",
       "    <tr>\n",
       "      <th>5</th>\n",
       "      <td>When our restaurant reservation fell though be...</td>\n",
       "      <td>4</td>\n",
       "    </tr>\n",
       "    <tr>\n",
       "      <th>6</th>\n",
       "      <td>I can not thank Mr Shrestha enough for his hos...</td>\n",
       "      <td>4</td>\n",
       "    </tr>\n",
       "    <tr>\n",
       "      <th>7</th>\n",
       "      <td>Fantastic experience on all levels - this was ...</td>\n",
       "      <td>5</td>\n",
       "    </tr>\n",
       "    <tr>\n",
       "      <th>8</th>\n",
       "      <td>Nice spot for some unique cuisine. The flavors...</td>\n",
       "      <td>4</td>\n",
       "    </tr>\n",
       "    <tr>\n",
       "      <th>9</th>\n",
       "      <td>We have been going here for years, but I've ne...</td>\n",
       "      <td>2</td>\n",
       "    </tr>\n",
       "  </tbody>\n",
       "</table>\n",
       "</div>"
      ],
      "text/plain": [
       "                                             Reviews  Sentiment\n",
       "0  When I got my meal delivered by Doordash, it w...          5\n",
       "1  I took my wife here for her birthday dinner, a...          5\n",
       "2  We were craving hearty comfort food on a rainy...          3\n",
       "3  We came here to try the Salmon Curry, vegetari...          5\n",
       "4  My cousin recommended this place. Tommy surpri...          5\n",
       "5  When our restaurant reservation fell though be...          4\n",
       "6  I can not thank Mr Shrestha enough for his hos...          4\n",
       "7  Fantastic experience on all levels - this was ...          5\n",
       "8  Nice spot for some unique cuisine. The flavors...          4\n",
       "9  We have been going here for years, but I've ne...          2"
      ]
     },
     "execution_count": 26,
     "metadata": {},
     "output_type": "execute_result"
    }
   ],
   "source": [
    "df"
   ]
  },
  {
   "cell_type": "code",
   "execution_count": 30,
   "id": "9f0d121b",
   "metadata": {},
   "outputs": [
    {
     "data": {
      "text/plain": [
       "'I took my wife here for her birthday dinner, and we enjoyed everything we order. We arrive for an early meal at 5:45pm, and there was ample seating. We were seated, we ordered, and the food came as soon as the rest of the patrons to this spot. This place filled up quickly for the dinner rush!The service was attentive, friendly, and quick. We ordered the:Veggie Momos which were filled with sautéed greens, cilantro, onions, carrots, and delicious herbs. The sauce was also delicious, and added a nice warmth and spice to the momos. Palak Paneer was creamy with a hint of herbs, and the paneer cubes were very rich and milky tasting. Machhako Tarkari Curry was a delicious salmon curry. It was a perfect compliment to the creamy palak planner, as it was a lighter more tomato based sauce. We also enjoyed that the entree dishes come with a side of rice and naan!For dessert we order Lal Mohan, yummy soft pudding like donut holes! They were so cute in the little bowl they came out in too. We will be back to this spot to try out their sizzling platters and other curries!'"
      ]
     },
     "execution_count": 30,
     "metadata": {},
     "output_type": "execute_result"
    }
   ],
   "source": [
    "df['Reviews'].iloc[1]"
   ]
  },
  {
   "cell_type": "code",
   "execution_count": 29,
   "id": "51c666fb",
   "metadata": {},
   "outputs": [
    {
     "data": {
      "text/plain": [
       "5"
      ]
     },
     "execution_count": 29,
     "metadata": {},
     "output_type": "execute_result"
    }
   ],
   "source": [
    "sentiment_score(df['Reviews'].iloc[1])"
   ]
  }
 ],
 "metadata": {
  "kernelspec": {
   "display_name": "Python 3 (ipykernel)",
   "language": "python",
   "name": "python3"
  },
  "language_info": {
   "codemirror_mode": {
    "name": "ipython",
    "version": 3
   },
   "file_extension": ".py",
   "mimetype": "text/x-python",
   "name": "python",
   "nbconvert_exporter": "python",
   "pygments_lexer": "ipython3",
   "version": "3.10.9"
  }
 },
 "nbformat": 4,
 "nbformat_minor": 5
}
